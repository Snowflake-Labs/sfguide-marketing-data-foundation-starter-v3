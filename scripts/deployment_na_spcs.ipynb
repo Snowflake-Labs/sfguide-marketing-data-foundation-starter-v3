{
 "cells": [
  {
   "cell_type": "markdown",
   "metadata": {},
   "source": [
    "# Marketing Data Foundation Setup Script\n",
    "\n",
    "## Project Setup using Notebook\n",
    "\n",
    "### *Pre-requisites:*\n",
    "\n",
    "1. Role with access to create Compute Pools, create Warehouses and Databases\n",
    "2. Any environment to run notebooks like VS code, Jupyterlab, etc.\n",
    "3. Have Docker Desktop installed\n",
    "4. Install and configure the Snow CLI to deploy the application in your account.\n",
    "\n",
    "\n",
    "### Config files\n",
    "The proyect contains some config file that should be updated with your own environment variables \n",
    "1. [app.config.json](app.config.json)"
   ]
  },
  {
   "cell_type": "markdown",
   "metadata": {},
   "source": [
    "## Setup local environment"
   ]
  },
  {
   "cell_type": "code",
   "execution_count": null,
   "metadata": {
    "vscode": {
     "languageId": "powershell"
    }
   },
   "outputs": [],
   "source": [
    "! python3.9 -m venv .venv \n",
    "! source .venv/bin/activate \n",
    "! pip install -r requirements.txt"
   ]
  },
  {
   "cell_type": "markdown",
   "metadata": {},
   "source": [
    "### Load App Configurations"
   ]
  },
  {
   "cell_type": "code",
   "execution_count": null,
   "metadata": {},
   "outputs": [],
   "source": [
    "from scripts.app_config import get_app_config\n",
    "\n",
    "app_conf_file = 'app.config.json'\n",
    "app_config = get_app_config(app_conf_file)\n",
    "\n",
    "print(f'Success')"
   ]
  },
  {
   "cell_type": "markdown",
   "metadata": {},
   "source": [
    "## Create Role\n"
   ]
  },
  {
   "cell_type": "code",
   "execution_count": null,
   "metadata": {},
   "outputs": [],
   "source": [
    "from scripts.auth import get_conn_obj\n",
    "from scripts.executeStatement import executeStatement\n",
    "import os\n",
    "\n",
    "user = os.environ['SNOWFLAKE_USER']\n",
    "role = f\"{app_config['database']}_ROLE\"\n",
    "print(executeStatement(f\"CREATE ROLE IF NOT EXISTS {role};\"))\n",
    "print(executeStatement(f\"GRANT CREATE COMPUTE POOL ON ACCOUNT TO ROLE {role};\"))\n",
    "print(executeStatement(f\"GRANT BIND SERVICE ENDPOINT ON ACCOUNT TO ROLE {role};\"))\n",
    "print(executeStatement(f\"GRANT CREATE WAREHOUSE ON ACCOUNT TO ROLE {role};\"))\n",
    "print('Success')\n"
   ]
  },
  {
   "cell_type": "markdown",
   "metadata": {},
   "source": [
    "### Replace application configuration files keys"
   ]
  },
  {
   "cell_type": "code",
   "execution_count": null,
   "metadata": {},
   "outputs": [],
   "source": [
    "import os\n",
    "\n",
    "from scripts.update_file_variables import file_replace\n",
    "\n",
    "app_config_f = 'app/src/manifest.yml'\n",
    "fullstack_config_f = 'app/src/fullstack.yaml'\n",
    "makefile_f = 'Makefile'\n",
    "\n",
    "replace_map = {\n",
    "    \"<image_repository_path>\": os.environ[\"IMAGE_REPOSITORY\"],\n",
    "    \"<image_repo_short_path>\": os.environ[\"IMAGE_REPO_SHORT\"],\n",
    "    \"<role>\": role\n",
    "}\n",
    "\n",
    "file_replace(app_config_f, replace_map)\n",
    "file_replace(fullstack_config_f, replace_map)\n",
    "file_replace(makefile_f, replace_map)\n",
    "print(f'Success')"
   ]
  },
  {
   "cell_type": "markdown",
   "metadata": {},
   "source": [
    "# Clear resources (optional)"
   ]
  },
  {
   "cell_type": "code",
   "execution_count": null,
   "metadata": {
    "vscode": {
     "languageId": "shellscript"
    }
   },
   "outputs": [],
   "source": [
    "! cd app && snow app teardown"
   ]
  },
  {
   "cell_type": "code",
   "execution_count": null,
   "metadata": {},
   "outputs": [],
   "source": [
    "# print(sp_session.sql(f\"USE DATABASE {app_config['database']}\"))\n",
    "from scripts.executeStatement import executeStatement\n",
    "\n",
    "print(executeStatement(f\"ALTER COMPUTE POOL IF EXISTS {app_config['compute_pool']} STOP ALL;\"))\n",
    "print(executeStatement(f\"DROP SERVICE IF EXISTS {app_config['container_service']}\"))\n",
    "print(executeStatement(f\"DROP COMPUTE POOL IF EXISTS {app_config['compute_pool']}\"))\n",
    "print(executeStatement(f\"DROP IMAGE REPOSITORY IF EXISTS {app_config['image_stage']};\"))\n",
    "print(executeStatement(f\"DROP DATABASE IF EXISTS {app_config['database']};\"))\n",
    "print(executeStatement(f\"DROP WAREHOUSE IF EXISTS {app_config['warehouse']};\"))\n"
   ]
  },
  {
   "cell_type": "markdown",
   "metadata": {},
   "source": [
    "## Setup Snowflake"
   ]
  },
  {
   "cell_type": "markdown",
   "metadata": {},
   "source": [
    "### Create database, schema and stages"
   ]
  },
  {
   "cell_type": "code",
   "execution_count": null,
   "metadata": {},
   "outputs": [],
   "source": [
    "create_app_package = f\"CREATE DATABASE IF NOT EXISTS {app_config['database']};\"\n",
    "create_dedicated_warehouse = f\"CREATE WAREHOUSE IF NOT EXISTS {app_config['warehouse']} WITH WAREHOUSE_SIZE = 'XSMALL' AUTO_SUSPEND = 60 AUTO_RESUME = TRUE INITIALLY_SUSPENDED = TRUE;\"\n",
    "grant_database = f\"GRANT ALL PRIVILEGES ON DATABASE {app_config['database']} TO ROLE {role}\"\n",
    "\n",
    "\n",
    "\n",
    "create_app_schema = f\"CREATE SCHEMA IF NOT EXISTS {app_config['database']}.{app_config['schema']};\"\n",
    "\n",
    "grant_schema = f\"GRANT ALL PRIVILEGES ON SCHEMA {app_config['database']}.{app_config['schema']} TO ROLE {role};\"\n",
    "\n",
    "grant_tables = f\"GRANT SELECT ON ALL TABLES IN SCHEMA {app_config['database']}.{app_config['schema']} TO ROLE {role};\"\n",
    "\n",
    "create_image_repo = f\"CREATE IMAGE REPOSITORY IF NOT EXISTS {app_config['database']}.{app_config['schema']}.{app_config['image_stage']};\"\n",
    "\n",
    "print(executeStatement(create_app_package))\n",
    "print(executeStatement(create_app_schema))\n",
    "print(executeStatement(create_image_repo))\n",
    "print(executeStatement(grant_database))\n",
    "print(executeStatement(grant_schema))\n",
    "print(executeStatement(grant_tables))\n",
    "print(executeStatement(create_dedicated_warehouse))"
   ]
  },
  {
   "cell_type": "markdown",
   "metadata": {},
   "source": [
    "### Upload Sample Data"
   ]
  },
  {
   "cell_type": "code",
   "execution_count": null,
   "metadata": {},
   "outputs": [],
   "source": [
    "create_sample_db = f\"CREATE DATABASE IF NOT EXISTS {app_config['sample_db']};\"\n",
    "create_sample_schema = f\"CREATE SCHEMA IF NOT EXISTS {app_config['sample_db']}.{app_config['sample_schema']};\"\n",
    "create_sample_stage = f\"CREATE STAGE IF NOT EXISTS {app_config['sample_db']}.{app_config['sample_schema']}.{app_config['sample_stage']};\"\n",
    "\n",
    "print(executeStatement(create_sample_db))\n",
    "print(executeStatement(create_sample_schema))\n",
    "print(executeStatement(create_sample_stage))"
   ]
  },
  {
   "cell_type": "code",
   "execution_count": null,
   "metadata": {},
   "outputs": [],
   "source": [
    "from scripts.executeStatement import executeCopyToStage\n",
    "sample_stage= f\"@{app_config['sample_db']}.{app_config['sample_schema']}.{app_config['sample_stage']}\"\n",
    "ga_data = \"data/ga_data/\"\n",
    "sf_data = \"data/sf_data/\"\n",
    "worldcities = \"data/worldcities.csv\"\n",
    "\n",
    "print(executeCopyToStage(ga_data,f\"{sample_stage}/data/ga_data/\"))\n",
    "print(executeCopyToStage(sf_data, f\"{sample_stage}/data/sf_data/\"))\n",
    "print(executeCopyToStage(worldcities, f\"{sample_stage}/data\"))"
   ]
  },
  {
   "cell_type": "code",
   "execution_count": null,
   "metadata": {},
   "outputs": [],
   "source": [
    "from scripts.update_file_variables import file_replace\n",
    "\n",
    "data_script_f = 'scripts/build_raw_samples.sql'\n",
    "\n",
    "replace_map = {\n",
    "    \"<DB>\": app_config['sample_db'],\n",
    "    \"<SCHEMA>\": app_config['sample_schema'],\n",
    "    \"<STAGE>\": app_config['sample_stage']\n",
    "}\n",
    "\n",
    "file_replace(data_script_f, replace_map)\n",
    "print(f'Success')"
   ]
  },
  {
   "cell_type": "code",
   "execution_count": null,
   "metadata": {
    "vscode": {
     "languageId": "shellscript"
    }
   },
   "outputs": [],
   "source": [
    "! snow sql -f scripts/build_raw_samples.sql"
   ]
  },
  {
   "cell_type": "markdown",
   "metadata": {},
   "source": [
    "### Build and Upload Docker Images"
   ]
  },
  {
   "cell_type": "code",
   "execution_count": null,
   "metadata": {
    "vscode": {
     "languageId": "shellscript"
    }
   },
   "outputs": [],
   "source": [
    "! make all"
   ]
  },
  {
   "cell_type": "markdown",
   "metadata": {},
   "source": [
    "### Deploy Native Application"
   ]
  },
  {
   "cell_type": "code",
   "execution_count": null,
   "metadata": {
    "vscode": {
     "languageId": "shellscript"
    }
   },
   "outputs": [],
   "source": [
    "! cd app && snow app run"
   ]
  },
  {
   "cell_type": "markdown",
   "metadata": {},
   "source": [
    "### Create Compute Pool"
   ]
  },
  {
   "cell_type": "markdown",
   "metadata": {},
   "source": []
  },
  {
   "cell_type": "code",
   "execution_count": null,
   "metadata": {},
   "outputs": [],
   "source": [
    "import os\n",
    "import subprocess\n",
    "appDeployed = subprocess.run (['snow', 'app', 'version', 'list'], stdout=subprocess.PIPE, cwd='app')\n",
    "result = appDeployed.stdout.decode(\"utf-8\")\n",
    "print(result)\n",
    "appPackageName = result[result.index(\"Marketing_Data_Foundation\"): result.index(\"\\n\")]\n",
    "appName = appPackageName.replace(\"_pkg_\",\"_\")\n",
    "print(appName)"
   ]
  },
  {
   "cell_type": "markdown",
   "metadata": {},
   "source": [
    "### Load Predefined Data Models"
   ]
  },
  {
   "cell_type": "code",
   "execution_count": null,
   "metadata": {},
   "outputs": [],
   "source": [
    "from scripts.load_models import load_models\n",
    "\n",
    "models_folder = \"backend/predefined_models\"\n",
    "\n",
    "load_models(appName, models_folder)"
   ]
  },
  {
   "cell_type": "code",
   "execution_count": null,
   "metadata": {},
   "outputs": [],
   "source": [
    "from scripts.executeStatement import executeStatement\n",
    "create_compute_pool_sql = f\"CREATE COMPUTE POOL IF NOT EXISTS {app_config['compute_pool']} for application {appName}\\\n",
    "    MIN_NODES = 1 \\\n",
    "    MAX_NODES = 1 \\\n",
    "    AUTO_SUSPEND_SECS = 120 \\\n",
    "    INSTANCE_FAMILY = CPU_X64_S;\"\n",
    "grant_usage_sql = f\"GRANT USAGE, MONITOR ON COMPUTE POOL {app_config['compute_pool']} \\\n",
    "    TO application {appName};\"\n",
    "\n",
    "grant_usage_wh = f\"GRANT USAGE, MONITOR ON WAREHOUSE {app_config['warehouse']} \\\n",
    "    TO application {appName};\"\n",
    "\n",
    "grant_bind_service = f\"GRANT BIND SERVICE ENDPOINT ON ACCOUNT TO application {appName};\"\n",
    "\n",
    "print(executeStatement(create_compute_pool_sql))\n",
    "print(executeStatement(grant_usage_sql))\n",
    "print(executeStatement(grant_usage_wh))\n",
    "print(executeStatement(grant_bind_service))\n",
    "\n"
   ]
  },
  {
   "cell_type": "markdown",
   "metadata": {},
   "source": [
    "#### Upload Semantic Model Configuration"
   ]
  },
  {
   "cell_type": "code",
   "execution_count": null,
   "metadata": {},
   "outputs": [],
   "source": [
    "from scripts.upload_files import upload_files_stage\n",
    "from scripts.update_file_variables import file_replace\n",
    "\n",
    "database = appName\n",
    "schema = 'LLM'\n",
    "semantic_models_stage = 'SEMANTIC_MODEL'\n",
    "llm_config_stage = 'CONFIGURATION'\n",
    "\n",
    "replace_map = {\n",
    "    \"<target_database>\": appName\n",
    "}\n",
    "file_replace('./assistant/semantic_models/UnifiedMarketingModel_CAMPAIGN_PERF.yaml', replace_map)\n",
    "\n",
    "subprocess.run(['snow', 'stage', 'copy', './assistant/config/assistant_config.yaml', f\"@{database}.{schema}.{llm_config_stage}\"])\n",
    "subprocess.run(['snow', 'stage', 'copy', './assistant/semantic_models/UnifiedMarketingModel_CAMPAIGN_PERF.yaml', f\"@{database}.{schema}.{semantic_models_stage}\"])\n",
    "\n",
    "print('Success')"
   ]
  },
  {
   "cell_type": "code",
   "execution_count": null,
   "metadata": {},
   "outputs": [],
   "source": [
    "grant_sample_db = f\"GRANT USAGE ON DATABASE {app_config['sample_db']} TO APPLICATION {appName};\"\n",
    "grant_sample_schema = f\"GRANT USAGE ON SCHEMA {app_config['sample_db']}.{app_config['sample_schema']} TO APPLICATION {appName};\"\n",
    "grant_sample_select = f\"GRANT SELECT ON ALL TABLES IN SCHEMA {app_config['sample_db']}.{app_config['sample_schema']} TO APPLICATION  {appName};\"\n",
    "\n",
    "print(executeStatement(grant_sample_db))\n",
    "print(executeStatement(grant_sample_schema))\n",
    "print(executeStatement(grant_sample_select))\n"
   ]
  },
  {
   "cell_type": "markdown",
   "metadata": {},
   "source": [
    "## Start container service"
   ]
  },
  {
   "cell_type": "code",
   "execution_count": null,
   "metadata": {},
   "outputs": [],
   "source": [
    "service_query = f\"call {appName}.app_public.start_app(\\'{app_config['compute_pool']}\\',\\'{app_config['warehouse']}\\')\"\n",
    "executeStatement(service_query)"
   ]
  },
  {
   "cell_type": "markdown",
   "metadata": {},
   "source": [
    "### Show container endpoint"
   ]
  },
  {
   "cell_type": "code",
   "execution_count": null,
   "metadata": {},
   "outputs": [],
   "source": [
    "from scripts.executeStatement import executeStatement\n",
    "from scripts.endpoint_provider import get_public_url_na\n",
    "get_public_url_na(appName, executeStatement)"
   ]
  }
 ],
 "metadata": {
  "kernelspec": {
   "display_name": ".venv",
   "language": "python",
   "name": "python3"
  },
  "language_info": {
   "codemirror_mode": {
    "name": "ipython",
    "version": 3
   },
   "file_extension": ".py",
   "mimetype": "text/x-python",
   "name": "python",
   "nbconvert_exporter": "python",
   "pygments_lexer": "ipython3",
   "version": "3.9.19"
  }
 },
 "nbformat": 4,
 "nbformat_minor": 2
}
