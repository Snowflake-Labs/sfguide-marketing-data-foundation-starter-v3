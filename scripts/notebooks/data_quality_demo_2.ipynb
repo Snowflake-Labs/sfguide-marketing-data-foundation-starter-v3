{
 "cells": [
  {
   "cell_type": "markdown",
   "id": "a7dd6adc-cf61-4abc-a398-999c8016a1e0",
   "metadata": {
    "collapsed": false,
    "name": "cell1"
   },
   "source": [
    "# Data Quality Starter"
   ]
  },
  {
   "cell_type": "markdown",
   "id": "d3d421d1-15c4-429d-be89-ed4ad6ae32ba",
   "metadata": {
    "collapsed": false,
    "name": "cell4"
   },
   "source": [
    "### Case 2: Detect possible alternative names\n",
    "When you are trying to deduplicate leads entered on our website, is important to understand possible nickname variations that a person could use rather than using their given name."
   ]
  },
  {
   "cell_type": "code",
   "execution_count": null,
   "id": "a51e756a-88e5-4be2-be63-b5e6985b01e0",
   "metadata": {
    "collapsed": false,
    "language": "sql",
    "name": "cell5"
   },
   "outputs": [],
   "source": [
    "\n",
    "select first_name, last_name,\n",
    " snowflake.cortex.complete('mixtral-8x7b'\n",
    "        , [\n",
    "        {'role': 'system', 'content': 'You are a marketing expert working to deduplicate leads entered on our website. To that end, it is useful to understand possible nickname variations.'\n",
    "            || 'For example, a person filling out the form could use a nickname, rather than their given name. Or they could enter their given name when they commonly use a nickname. '\n",
    "            || 'Therefore, please identify possible name variations that the given person may use. Do not include the last name in any variation. Do not include the original name. Do not include alternate spellings.'\n",
    "            || 'Return 5 or fewer possible names separated with commas with an xml tag <response>.'\n",
    "            || 'You should provide only the list of names and no text other than the xml tag, in the form <response>name1, name2, name3</response>.' },\n",
    "        {'role': 'user', 'content': '<data>'\n",
    "            || 'Name: '\n",
    "            || first_name || ' ' || last_name\n",
    "            || '</data>'}\n",
    "            ]\n",
    "        , {'max_tokens': 35}\n",
    "        ):choices[0]:messages::string as spam_filter_raw\n",
    "    , regexp_substr(spam_filter_raw, '<response>(.*?)<\\/response>', 1, 1, 'e', 1) as spam_filter\n",
    "from LLM_DEMO.DEMO.customer_information;"
   ]
  }
 ],
 "metadata": {
  "kernelspec": {
   "display_name": "Streamlit Notebook",
   "name": "streamlit"
  }
 },
 "nbformat": 4,
 "nbformat_minor": 5
}
