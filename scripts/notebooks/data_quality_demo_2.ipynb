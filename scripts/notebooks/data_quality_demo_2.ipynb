{
 "metadata": {
  "kernelspec": {
   "display_name": "Streamlit Notebook",
   "name": "streamlit"
  },
  "lastEditStatus": {
   "notebookId": "kgjsubwht7ih5tnj4wnk",
   "authorId": "4584884901892",
   "authorName": "JBELLEGARDE",
   "authorEmail": "joviane.bellegarde@snowflake.com",
   "sessionId": "768dc58c-7f10-4afa-810d-9e15924a67d5",
   "lastEditTime": 1752437731640
  }
 },
 "nbformat_minor": 5,
 "nbformat": 4,
 "cells": [
  {
   "cell_type": "markdown",
   "id": "a7dd6adc-cf61-4abc-a398-999c8016a1e0",
   "metadata": {
    "collapsed": false,
    "name": "case_2_md"
   },
   "source": "# Data Quality Starter\n\n### Case 2: Detect possible alternative names\nWhen you are trying to deduplicate leads entered on our website, is important to understand possible nickname variations that a person could use rather than using their given name."
  },
  {
   "cell_type": "code",
   "execution_count": null,
   "id": "a51e756a-88e5-4be2-be63-b5e6985b01e0",
   "metadata": {
    "collapsed": false,
    "language": "sql",
    "name": "cortex_case_2"
   },
   "outputs": [],
   "source": "ALTER SESSION SET QUERY_TAG = '{\n    \"origin\": \"sf_sit-is\", \n    \"name\": \"marketing_data_foundation_starter_spcs\", \n    \"version\": {\"major\": 3, \"minor\": 0},\n    \"attributes\": {\"is_quickstart\": 0, \"source\": \"notebook\"}\n}';\n\n\nselect first_name, last_name,\n snowflake.cortex.complete('mixtral-8x7b'\n        , [\n        {'role': 'system', 'content': 'You are a marketing expert working to deduplicate leads entered on our website. To that end, it is useful to understand possible nickname variations.'\n            || 'For example, a person filling out the form could use a nickname, rather than their given name. Or they could enter their given name when they commonly use a nickname. '\n            || 'Therefore, please identify possible name variations that the given person may use. Do not include the last name in any variation. Do not include the original name. Do not include alternate spellings.'\n            || 'Return 5 or fewer possible names separated with commas with an xml tag <response>.'\n            || 'You should provide only the list of names and no text other than the xml tag, in the form <response>name1, name2, name3</response>.' },\n        {'role': 'user', 'content': '<data>'\n            || 'Name: '\n            || first_name || ' ' || last_name\n            || '</data>'}\n            ]\n        , {'max_tokens': 35}\n        ):choices[0]:messages::string as spam_filter_raw\n    , regexp_substr(spam_filter_raw, '<response>(.*?)<\\/response>', 1, 1, 'e', 1) as spam_filter\nfrom LLM_DEMO.DEMO.customer_information;"
  }
 ]
}