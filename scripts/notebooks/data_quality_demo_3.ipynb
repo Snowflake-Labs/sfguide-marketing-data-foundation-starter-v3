{
 "cells": [
  {
   "cell_type": "markdown",
   "id": "a7dd6adc-cf61-4abc-a398-999c8016a1e0",
   "metadata": {
    "collapsed": false,
    "name": "cell1"
   },
   "source": [
    "# Data Quality Starter"
   ]
  },
  {
   "cell_type": "markdown",
   "id": "f407a579-b310-48f4-b05d-d7d075307e71",
   "metadata": {
    "collapsed": false,
    "name": "cell6"
   },
   "source": [
    "### Case 3: Classify email domains\n",
    "You need to clasify the email addresses that have been entered on our website to determine if they a work email address or a personal email address."
   ]
  },
  {
   "cell_type": "code",
   "execution_count": null,
   "id": "3b4cf054-c92a-42c9-a140-9fe5fa087dbc",
   "metadata": {
    "language": "sql",
    "name": "cell7"
   },
   "outputs": [],
   "source": [
    "select email,\n",
    " snowflake.cortex.complete('mistral-large'\n",
    "        , [\n",
    "        {'role': 'system', 'content':\n",
    "            'You are a marketing expert and your job is to classify the email addresses that have been entered on your website to determine if they are a likely to be a work email address or a personal email address, or to flag that you are unsure if it should be examined more closely.'\n",
    "            || 'Email addresses have two parts - a username and a domain. Both parts should be considered to evaluate the email addresses. '\n",
    "            || 'Business emails likely have either a username or a domain that indicates a business. It could be a large, recognizable business, or a more descriptive small business name. A username that looks like a small business should be considered a business email even on a free email domain.'\n",
    "            || 'Personal emails have usernames that are typically based on the name or nickname of a person, often with numbers. Domains are often internet service providers or free email services like gmail, yahoo, etc., or custom domains, with variations of names or families, without the mention of a business.'\n",
    "            || 'Note that some companies like Comcast and AT&T would have both business emails and personal emails, with employees using the \"dot com\" domain (comcast.com, att.com) and customers using the \"dot net\" domain (comcast.net, att.net). Additionally, some companies like Google and Microsoft use different domains for their corporate employees (dot com domain) than for their free email services (Gmail and Hotmail).'\n",
    "            || 'Wrap the category classification with an xml tag <response>.'\n",
    "            || 'You should provide only \"business\" or \"personal\" and no text other than the xml tag' },\n",
    "        {'role': 'user', 'content': '<data>'\n",
    "            || ' username: '\n",
    "            || LEFT(email, CHARINDEX('@', email) - 1)\n",
    "            || ' , domain: '\n",
    "            || RIGHT(email, LEN(email) - CHARINDEX('@', email))\n",
    "            || '</data>'}\n",
    "            ]\n",
    "        , {'max_tokens': 20}\n",
    "        ):choices[0]:messages::string as classification_raw\n",
    "    , regexp_substr(classification_raw, '<response>(.*?)<\\/response>', 1, 1, 'e', 1) as classification\n",
    "from LLM_DEMO.DEMO.customer_emails;"
   ]
  }
 ],
 "metadata": {
  "kernelspec": {
   "display_name": "Streamlit Notebook",
   "name": "streamlit"
  }
 },
 "nbformat": 4,
 "nbformat_minor": 5
}
