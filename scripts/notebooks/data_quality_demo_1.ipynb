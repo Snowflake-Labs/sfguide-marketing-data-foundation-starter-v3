{
 "cells": [
  {
   "cell_type": "markdown",
   "id": "a7dd6adc-cf61-4abc-a398-999c8016a1e0",
   "metadata": {
    "collapsed": false,
    "name": "cell1"
   },
   "source": [
    "# Data Quality Starter"
   ]
  },
  {
   "cell_type": "markdown",
   "id": "a79cbc01-0038-451a-986a-a0d08bfeaf7d",
   "metadata": {
    "collapsed": false,
    "name": "cell2"
   },
   "source": [
    "### Case 1: Detect company names that are fake data or spam\n",
    "\n",
    "We need to evaluate the quality of leads who have expressed interest in Snowflake.\n",
    "The data was collected using a form that is available to anyone, some of the data could contain fake data or spam. \n",
    "We can leverage our LLM Cortex function to help us detect and filter out spam from our data set."
   ]
  },
  {
   "cell_type": "code",
   "execution_count": null,
   "id": "5541b866-ee4e-441a-8551-a66726d4af49",
   "metadata": {
    "collapsed": false,
    "language": "sql",
    "name": "cell3"
   },
   "outputs": [],
   "source": [
    "select first_name, last_name, title, company,\n",
    " snowflake.cortex.complete('mistral-7b'\n",
    "        , [\n",
    "        {'role': 'system', 'content': 'You are a marketing expert working at Snowflake Inc. Your job is to evaluate the quality of leads who have expressed interest in Snowflake on a form available to anyone who visits the Snowflake website. '\n",
    "            || 'Please classify if the data entered is one of these two categories: legitimate or spam. Consider each field on its own and in combination with the other fields. '\n",
    "            || 'Here are some attributes of high quality leads: The job title should be one that would use or buy cloud software. The company name should appear to be a real organization. '\n",
    "            || 'Here are some attributes of spam leads: The data contains references to famous people who would not be buying Snowflake. Any of the fields contain gibberish text or offensive content. Most fields contain just a single character or invalid punctuation. '\n",
    "            || 'Wrap the category classification with an xml tag <response>.'\n",
    "            || 'You should provide only \"legitimate\" or \"spam\" and no text other than the xml tag' },\n",
    "        {'role': 'user', 'content': '<data>'\n",
    "            || 'Name: '\n",
    "            || first_name || ' ' || last_name\n",
    "            || ', job title: '\n",
    "            || title\n",
    "            || ', company: '\n",
    "            || company\n",
    "            || '</data>'}\n",
    "            ]\n",
    "        , {'max_tokens': 10}\n",
    "        ):choices[0]:messages::string as spam_filter_raw\n",
    "    , regexp_substr(spam_filter_raw, '<response>(.*?)<\\/response>', 1, 1, 'e', 1) as spam_filter\n",
    "from LLM_DEMO.DEMO.customer_information;"
   ]
  }
 ],
 "metadata": {
  "kernelspec": {
   "display_name": "Streamlit Notebook",
   "name": "streamlit"
  }
 },
 "nbformat": 4,
 "nbformat_minor": 5
}
